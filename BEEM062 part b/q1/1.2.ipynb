{
 "cells": [
  {
   "cell_type": "markdown",
   "id": "0d9d1195",
   "metadata": {},
   "source": [
    "## Time Series in Python"
   ]
  },
  {
   "cell_type": "code",
   "execution_count": 1,
   "id": "11af559f",
   "metadata": {},
   "outputs": [],
   "source": [
    "import quandl\n",
    "import json\n",
    "import requests\n",
    "import numpy as np"
   ]
  },
  {
   "cell_type": "code",
   "execution_count": 3,
   "id": "bc191142",
   "metadata": {},
   "outputs": [],
   "source": [
    "#data from Quandle API\n",
    "quandl.ApiConfig.api_key = '9KphSw7GRKM9PfSXG6UQ'\n",
    "\n",
    "#filtering by date so that we can compare the two API responses\n",
    "response = quandl.get('EIA/PET_RWTC_D', start_date='2022-01-10', end_date='2022-02-08', returns='numpy')\n",
    "\n",
    "x_t = [x[1] for x in response]"
   ]
  },
  {
   "cell_type": "code",
   "execution_count": 91,
   "id": "3eecc7cc",
   "metadata": {},
   "outputs": [],
   "source": [
    "#data from CrytoCompare API\n",
    "cryptocompareAPI = '9c9005d2d8bc03131d48edfa3bc550aa22980244d00f2956b52f017eec57af90'\n",
    "\n",
    "#adding timestamp to ensure API data relates to the same timeframe\n",
    "url = 'https://min-api.cryptocompare.com/data/blockchain/staking/histoday?fsym=ETH&toTs=1644192000&api_key={}'.format(cryptocompareAPI)\n",
    "\n",
    "response = requests.get(url)\n",
    "data = json.loads(response.text)\n",
    "\n",
    "#dates which are not included in Quandl API reponse and so which to exclude from this data.\n",
    "dates_exclude = ['2022-01-09T','2022-01-15T','2022-01-16T','2022-01-22T','2022-01-23T','2022-01-29T','2022-01-30T','2022-02-05T','2022-02-06T']\n",
    "\n",
    "y_t = [r['rate'] for r in data['Data']['Data'] if not any(d in r['issued_date'] for d in dates_exclude)]"
   ]
  },
  {
   "cell_type": "markdown",
   "id": "c47d148a",
   "metadata": {},
   "source": [
    "### Standard OLS formulae"
   ]
  },
  {
   "cell_type": "code",
   "execution_count": 92,
   "id": "36d6bd7e",
   "metadata": {},
   "outputs": [],
   "source": [
    "import matplotlib.pyplot as plt"
   ]
  },
  {
   "cell_type": "code",
   "execution_count": 94,
   "id": "5f7fe1a1",
   "metadata": {},
   "outputs": [
    {
     "data": {
      "text/plain": [
       "Text(0, 0.5, 'Staking Rate ETH, Daily')"
      ]
     },
     "execution_count": 94,
     "metadata": {},
     "output_type": "execute_result"
    },
    {
     "data": {
      "image/png": "[encoded data removed]",
      "text/plain": [
       "<Figure size 432x288 with 1 Axes>"
      ]
     },
     "metadata": {
      "needs_background": "light"
     },
     "output_type": "display_data"
    }
   ],
   "source": [
    "plt.plot(x_t,y_t,'go')\n",
    "plt.xlabel(\"Cushing, OK WTI Spot Price FOB, Daily\")\n",
    "plt.ylabel(\"Staking Rate ETH, Daily\")"
   ]
  },
  {
   "cell_type": "code",
   "execution_count": 96,
   "id": "dcbfb2f1",
   "metadata": {},
   "outputs": [
    {
     "name": "stdout",
     "output_type": "stream",
     "text": [
      "alpha = 5.312639165861963 \n",
      "beta = -0.011067006073117409\n"
     ]
    }
   ],
   "source": [
    "beta = ((np.multiply(y_t, x_t)).mean()-np.mean(x_t)*np.mean(y_t))/((np.multiply(x_t, x_t)).mean()-np.mean(x_t)*np.mean(x_t))\n",
    "alpha = np.mean(y_t)-beta*np.mean(x_t)\n",
    "print(\"alpha =\",alpha, \"\\nbeta =\",beta)"
   ]
  },
  {
   "cell_type": "code",
   "execution_count": 99,
   "id": "bd6104ee",
   "metadata": {},
   "outputs": [
    {
     "data": {
      "text/plain": [
       "0.007650406238218997"
      ]
     },
     "execution_count": 99,
     "metadata": {},
     "output_type": "execute_result"
    }
   ],
   "source": [
    "type((np.multiply(y_t, x_t)))\n",
    "y_hat = alpha + np.multiply(beta,x_t)\n",
    "L = np.sum(np.multiply(y_t - y_hat,y_t - y_hat))\n",
    "L"
   ]
  },
  {
   "cell_type": "markdown",
   "id": "3048bb57",
   "metadata": {},
   "source": [
    "### Gradient Descent"
   ]
  },
  {
   "cell_type": "code",
   "execution_count": 100,
   "id": "054f3802",
   "metadata": {},
   "outputs": [
    {
     "data": {
      "text/plain": [
       "Text(0, 0.5, 'Staking Rate ETH, Daily')"
      ]
     },
     "execution_count": 100,
     "metadata": {},
     "output_type": "execute_result"
    },
    {
     "data": {
      "image/png": "[encoded data removed]",
      "text/plain": [
       "<Figure size 432x288 with 1 Axes>"
      ]
     },
     "metadata": {
      "needs_background": "light"
     },
     "output_type": "display_data"
    }
   ],
   "source": [
    "plt.plot(x_t,y_t,'go')\n",
    "plt.xlabel(\"Cushing, OK WTI Spot Price FOB, Daily\")\n",
    "plt.ylabel(\"Staking Rate ETH, Daily\")"
   ]
  },
  {
   "cell_type": "code",
   "execution_count": 101,
   "id": "cbe74d78",
   "metadata": {},
   "outputs": [],
   "source": [
    "def  cal_cost(beta0,beta1,x,y):\n",
    "        n = len(y)\n",
    "        predictions = beta0 + np.multiply(beta1,x)\n",
    "        cost = (1/2*n) * np.sum(np.square(predictions-y))\n",
    "        return cost"
   ]
  },
  {
   "cell_type": "code",
   "execution_count": 102,
   "id": "6862d408",
   "metadata": {},
   "outputs": [
    {
     "name": "stdout",
     "output_type": "stream",
     "text": [
      "alpha = 5.312639165861963 \n",
      "beta = -0.011067006073117409\n"
     ]
    }
   ],
   "source": [
    "beta = ((np.multiply(y_t, x_t)).mean()-np.mean(x_t)*np.mean(y_t))/((np.multiply(x_t, x_t)).mean()-np.mean(x_t)*np.mean(x_t))\n",
    "alpha =np.mean(y_t)-beta*np.mean(x_t)\n",
    "print(\"alpha =\",alpha, \"\\nbeta =\",beta)"
   ]
  },
  {
   "cell_type": "code",
   "execution_count": 103,
   "id": "5b4b6bf8",
   "metadata": {},
   "outputs": [],
   "source": [
    "x_new = np.array([[87],[95],[80]])\n",
    "y_hat = alpha + np.multiply(beta,x_new)"
   ]
  },
  {
   "cell_type": "code",
   "execution_count": 106,
   "id": "2784ded0",
   "metadata": {},
   "outputs": [
    {
     "data": {
      "text/plain": [
       "Text(0, 0.5, 'Staking Rate ETH, Daily')"
      ]
     },
     "execution_count": 106,
     "metadata": {},
     "output_type": "execute_result"
    },
    {
     "data": {
      "image/png": "[encoded data removed]",
      "text/plain": [
       "<Figure size 432x288 with 1 Axes>"
      ]
     },
     "metadata": {
      "needs_background": "light"
     },
     "output_type": "display_data"
    }
   ],
   "source": [
    "plt.plot(x_new,y_hat)\n",
    "plt.plot(x_t,y_t,'go')\n",
    "plt.xlabel(\"Cushing, OK WTI Spot Price FOB, Daily\")\n",
    "plt.ylabel(\"Staking Rate ETH, Daily\")"
   ]
  },
  {
   "cell_type": "code",
   "execution_count": 114,
   "id": "c626ce66",
   "metadata": {},
   "outputs": [],
   "source": [
    "alpha = 6\n",
    "y_hat = alpha + np.multiply(beta,x_new)"
   ]
  },
  {
   "cell_type": "code",
   "execution_count": 116,
   "id": "04291bb5",
   "metadata": {},
   "outputs": [
    {
     "data": {
      "text/plain": [
       "Text(0, 0.5, 'Staking Rate ETH, Daily')"
      ]
     },
     "execution_count": 116,
     "metadata": {},
     "output_type": "execute_result"
    },
    {
     "data": {
      "image/png": "[encoded data removed]",
      "text/plain": [
       "<Figure size 432x288 with 1 Axes>"
      ]
     },
     "metadata": {
      "needs_background": "light"
     },
     "output_type": "display_data"
    }
   ],
   "source": [
    "plt.plot(x_new,y_hat)\n",
    "plt.plot(x_t,y_t,'go')\n",
    "plt.xlabel(\"Cushing, OK WTI Spot Price FOB, Daily\")\n",
    "plt.ylabel(\"Staking Rate ETH, Daily\")"
   ]
  },
  {
   "cell_type": "code",
   "execution_count": 118,
   "id": "e5dac98a",
   "metadata": {},
   "outputs": [
    {
     "data": {
      "text/plain": [
       "5317.1512391061415"
      ]
     },
     "execution_count": 118,
     "metadata": {},
     "output_type": "execute_result"
    }
   ],
   "source": [
    "cal_cost(alpha,beta,x_t,y_t)\n",
    "cal_cost(10,beta,x_t,y_t)"
   ]
  },
  {
   "cell_type": "code",
   "execution_count": 123,
   "id": "81b68683",
   "metadata": {},
   "outputs": [
    {
     "data": {
      "text/plain": [
       "[<matplotlib.lines.Line2D at 0x11fc4aec0>]"
      ]
     },
     "execution_count": 123,
     "metadata": {},
     "output_type": "execute_result"
    },
    {
     "data": {
      "image/png": "[encoded data removed]",
      "text/plain": [
       "<Figure size 432x288 with 1 Axes>"
      ]
     },
     "metadata": {
      "needs_background": "light"
     },
     "output_type": "display_data"
    }
   ],
   "source": [
    "iterations = 32\n",
    "alpha = -11\n",
    "\n",
    "loss_history = np.zeros((iterations,1))\n",
    "alpha_history = np.zeros((iterations,1))\n",
    "\n",
    "for i in range(iterations):\n",
    "    alpha = alpha +1\n",
    "    \n",
    "    loss_history[i] = cal_cost(alpha,beta,x_t,y_t)\n",
    "    alpha_history[i] = alpha\n",
    "    \n",
    "plt.plot(alpha_history,loss_history,'go')"
   ]
  },
  {
   "cell_type": "code",
   "execution_count": 127,
   "id": "e5f1c2ca",
   "metadata": {},
   "outputs": [
    {
     "data": {
      "text/plain": [
       "[<matplotlib.lines.Line2D at 0x11fcb2e00>]"
      ]
     },
     "execution_count": 127,
     "metadata": {},
     "output_type": "execute_result"
    },
    {
     "data": {
      "image/png": "[encoded data removed]",
      "text/plain": [
       "<Figure size 432x288 with 1 Axes>"
      ]
     },
     "metadata": {
      "needs_background": "light"
     },
     "output_type": "display_data"
    }
   ],
   "source": [
    "iterations = 1000\n",
    "alpha = -11\n",
    "n = len(y_t)\n",
    "\n",
    "loss_history = np.zeros((iterations,1))\n",
    "alpha_history = np.zeros((iterations,1))\n",
    "\n",
    "for i in range(iterations):\n",
    "    \n",
    "        \n",
    "        prediction = alpha + np.multiply(beta,x_t)\n",
    "        residuals = y_t-prediction\n",
    "        residuals_sum = sum(residuals)\n",
    "        gradient = -(1/n)*0.1*residuals_sum\n",
    " \n",
    "        alpha = alpha - gradient\n",
    "    \n",
    "        loss_history[i] = cal_cost(alpha,beta,x_t,y_t)\n",
    "        alpha_history[i] = alpha\n",
    "    \n",
    "plt.plot(alpha_history,loss_history,'go')"
   ]
  },
  {
   "cell_type": "code",
   "execution_count": 128,
   "id": "4ff9ca9b",
   "metadata": {},
   "outputs": [
    {
     "name": "stdout",
     "output_type": "stream",
     "text": [
      "alpha = 5.312639165861958 \n",
      "beta = -0.011067006073117409\n"
     ]
    }
   ],
   "source": [
    "print(\"alpha =\",alpha, \"\\nbeta =\",beta)"
   ]
  }
 ],
 "metadata": {
  "kernelspec": {
   "display_name": "Python 3 (ipykernel)",
   "language": "python",
   "name": "python3"
  },
  "language_info": {
   "codemirror_mode": {
    "name": "ipython",
    "version": 3
   },
   "file_extension": ".py",
   "mimetype": "text/x-python",
   "name": "python",
   "nbconvert_exporter": "python",
   "pygments_lexer": "ipython3",
   "version": "3.10.0"
  }
 },
 "nbformat": 4,
 "nbformat_minor": 5
}
